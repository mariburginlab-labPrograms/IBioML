{
 "cells": [
  {
   "cell_type": "code",
   "execution_count": 5,
   "id": "1b1d8469",
   "metadata": {},
   "outputs": [],
   "source": [
    "import sys\n",
    "import os\n",
    "import torch\n",
    "import pickle\n",
    "\n",
    "# Agrega la carpeta raíz del proyecto al sys.path\n",
    "sys.path.append(os.path.abspath(os.path.join(os.getcwd(), '..')))\n",
    "\n",
    "from ibioml.models import MLPModel\n",
    "from ibioml.tuner import run_study\n",
    "\n",
    "path = os.path.join(os.getcwd(), 'data')\n",
    "\n",
    "# Cargar datos\n",
    "with open(os.path.join(path, 'bins200ms_preprocessed_withCtxt.pickle'), 'rb') as f:\n",
    "    X, y, T = pickle.load(f)\n",
    "\n",
    "with open(os.path.join(path, 'bins200ms_preprocessed_withCtxt_flat.pickle'), 'rb') as f:\n",
    "    X_flat, y_flat, T = pickle.load(f)\n",
    "\n",
    "# Configurar device\n",
    "device = torch.device(\"cuda\" if torch.cuda.is_available() else \"cpu\")\n",
    "\n",
    "# Definir espacios de modelo base\n",
    "mlp_base_space = {\n",
    "    \"model_class\": MLPModel,\n",
    "    \"output_size\": 1,\n",
    "    \"device\": device,\n",
    "    \"num_epochs\": 200,\n",
    "    \"es_patience\": 10,\n",
    "    \"reg_type\": None,\n",
    "    \"lambda_reg\": None,\n",
    "    \"batch_size\": 32,\n",
    "    # Hiperparámetros a optimizar:\n",
    "    \"hidden_size\": (int, 128, 512, 64),      # (tipo, low, high, step)\n",
    "    \"num_layers\": 2,               # (tipo, low, high)\n",
    "    \"dropout\": 0.4,            # (tipo, low, high)\n",
    "    \"lr\": 1e-4\n",
    "}"
   ]
  },
  {
   "cell_type": "code",
   "execution_count": null,
   "id": "12e7a14d",
   "metadata": {},
   "outputs": [],
   "source": [
    "run_study(\n",
    "    X_flat, y_flat, T,\n",
    "    model_space=mlp_base_space,\n",
    "    num_trials=2,\n",
    "    outer_folds=5,\n",
    "    inner_folds=1,\n",
    "    save_path=f\"results/mlp_nested_cv\"\n",
    ")"
   ]
  }
 ],
 "metadata": {
  "kernelspec": {
   "display_name": "neuroml",
   "language": "python",
   "name": "python3"
  },
  "language_info": {
   "codemirror_mode": {
    "name": "ipython",
    "version": 3
   },
   "file_extension": ".py",
   "mimetype": "text/x-python",
   "name": "python",
   "nbconvert_exporter": "python",
   "pygments_lexer": "ipython3",
   "version": "3.10.12"
  }
 },
 "nbformat": 4,
 "nbformat_minor": 5
}
