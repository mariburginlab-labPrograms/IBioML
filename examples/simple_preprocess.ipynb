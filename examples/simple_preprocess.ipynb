{
 "cells": [
  {
   "cell_type": "code",
   "execution_count": 1,
   "id": "9c0fc294",
   "metadata": {},
   "outputs": [],
   "source": [
    "import os\n",
    "import sys\n",
    "\n",
    "# Agrega la carpeta raíz del proyecto al sys.path\n",
    "sys.path.append(os.path.abspath(os.path.join(os.getcwd(), '..')))\n",
    "\n",
    "from ibioml.preprocess_data import preprocess_data"
   ]
  },
  {
   "cell_type": "code",
   "execution_count": 8,
   "id": "830f3c75",
   "metadata": {},
   "outputs": [
    {
     "name": "stdout",
     "output_type": "stream",
     "text": [
      "Shape del neural data: (19564, 64)\n",
      "Shape del neural data en Rewarded Context: (12544, 64)\n",
      "Shape del X: (19564, 11, 66)\n",
      "El trial  [129] es muy largo\n",
      "Índices de los time bins a eliminar por larga duración: [12352 12353 12354 ... 14258 14259 14260]\n",
      "Indices a remover por ahora, sin historia y por inactividad: [    0     1     2 ... 19561 19562 19563]\n",
      "Trials con dPrime menor o igual a 2.8: [  0   1   2   3   4   5   6   7   8   9  10  11  12  13  14  15  16  17\n",
      "  18  19  20  21  22  23  24  25  26  27  28  29  30  31  32  42  43  44\n",
      "  45  46  47  48  49  50  51  52  53  54  55  56  57  58  59  60 172 173\n",
      " 174 175]\n",
      "Cantidad de trials: 56\n",
      "Índices de los time bins a eliminar por bajo rendimiento: [    0     1     2 ... 19561 19562 19563]\n",
      "Índices totales de los time bins a eliminar: [    0     1     2 ... 19561 19562 19563]\n",
      "Shape de X final: (12204, 11, 50)\n",
      "Datos con marcadores de trial guardados en data/bins200ms_preprocessed_withCtxt_onlyPosition.pickle\n",
      "Datos con marcadores de trial guardados en data/bins200ms_preprocessed_withCtxt_onlyPosition_flat.pickle\n",
      "Datos con marcadores de trial guardados en data/bins200ms_preprocessed_withCtxt_onlyVelocity.pickle\n",
      "Datos con marcadores de trial guardados en data/bins200ms_preprocessed_withCtxt_onlyVelocity_flat.pickle\n",
      "Datos con marcadores de trial guardados en data/bins200ms_preprocessed_withCtxt.pickle\n",
      "Datos con marcadores de trial guardados en data/bins200ms_preprocessed_withCtxt_flat.pickle\n",
      "Shape del X sin contexto: (12204, 11, 48)\n",
      "Datos con marcadores de trial guardados en data/bins200ms_preprocessed_onlyPosition.pickle\n",
      "Datos con marcadores de trial guardados en data/bins200ms_preprocessed_onlyPosition_flat.pickle\n",
      "Datos con marcadores de trial guardados en data/bins200ms_preprocessed_onlyVelocity.pickle\n",
      "Datos con marcadores de trial guardados en data/bins200ms_preprocessed_onlyVelocity_flat.pickle\n",
      "Datos con marcadores de trial guardados en data/bins200ms_preprocessed.pickle\n",
      "Datos con marcadores de trial guardados en data/bins200ms_preprocessed_flat.pickle\n"
     ]
    }
   ],
   "source": [
    "preprocess_data(\n",
    "    file_path='datasets/L5_bins200ms_completo.mat', \n",
    "    file_name_to_save='bins200ms_preprocessed', \n",
    "    bins_before=5, \n",
    "    bins_after=5, \n",
    "    bins_current=1, \n",
    "    threshDPrime=2.5, \n",
    "    firingMinimo=1000\n",
    ")"
   ]
  }
 ],
 "metadata": {
  "kernelspec": {
   "display_name": "neuroml",
   "language": "python",
   "name": "python3"
  },
  "language_info": {
   "codemirror_mode": {
    "name": "ipython",
    "version": 3
   },
   "file_extension": ".py",
   "mimetype": "text/x-python",
   "name": "python",
   "nbconvert_exporter": "python",
   "pygments_lexer": "ipython3",
   "version": "3.10.12"
  }
 },
 "nbformat": 4,
 "nbformat_minor": 5
}
